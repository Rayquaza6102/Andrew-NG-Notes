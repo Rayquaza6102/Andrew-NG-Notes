{
  "nbformat": 4,
  "nbformat_minor": 0,
  "metadata": {
    "colab": {
      "provenance": [],
      "authorship_tag": "ABX9TyNdwNeWAxDJQnuW5c3BnnSz",
      "include_colab_link": true
    },
    "kernelspec": {
      "name": "python3",
      "display_name": "Python 3"
    },
    "language_info": {
      "name": "python"
    }
  },
  "cells": [
    {
      "cell_type": "markdown",
      "metadata": {
        "id": "view-in-github",
        "colab_type": "text"
      },
      "source": [
        "<a href=\"https://colab.research.google.com/github/Rayquaza6102/Andrew-NG-Notes/blob/master/ECG_ABNORMALITY_DETECTION.ipynb\" target=\"_parent\"><img src=\"https://colab.research.google.com/assets/colab-badge.svg\" alt=\"Open In Colab\"/></a>"
      ]
    },
    {
      "cell_type": "markdown",
      "source": [
        "Data Preprocessing"
      ],
      "metadata": {
        "id": "NIwl4W1QJ2Jj"
      }
    },
    {
      "cell_type": "code",
      "source": [
        "import numpy as np\n",
        "import pywt\n",
        "import scipy.stats\n",
        "\n",
        "# loading the data in struct format from ECGData file\n",
        "data = np.load('ECGData.npy', allow_pickle=True).item()\n",
        "\n",
        "# we are dividing 70% of total data as training data and remaining 30% as testing data\n",
        "percent_train = 70\n",
        "\n",
        "# randomly selecting index of the data\n",
        "n = len(data['Labels'])\n",
        "i = np.random.permutation(n)\n",
        "\n",
        "# Training data\n",
        "trainData = {}\n",
        "trainData['Labels'] = data['Labels'][i[:round(0.7*n)]]\n",
        "trainData['Data'] = data['Data'][i[:round(0.7*n)]]\n",
        "\n",
        "# Testing data\n",
        "testData = {}\n",
        "testData['Labels'] = data['Labels'][i[round(0.7*n):]]\n",
        "testData['Data'] = data['Data'][i[round(0.7*n):]]\n"
      ],
      "metadata": {
        "id": "vlD-kMMAJyKa"
      },
      "execution_count": null,
      "outputs": []
    },
    {
      "cell_type": "markdown",
      "source": [
        "Training the model"
      ],
      "metadata": {
        "id": "LbaZvC0dKCuk"
      }
    },
    {
      "cell_type": "code",
      "source": [
        "# Training\n",
        "trainFeatureMatrix = np.zeros((1, 30))\n",
        "train_label = [0]\n",
        "\n",
        "for m in range(len(trainData['Labels'])):\n",
        "    data = trainData['Data'][m]\n",
        "    if trainData['Labels'][m] == \"NSR\":\n",
        "        train_label.append(1)\n",
        "    else:\n",
        "        train_label.append(0)\n",
        "    # wavelet decomposition of 5 level using dauchebies wavelet of order 10 \n",
        "    c, l = pywt.wavedec(data, 'db10', level=5)\n",
        "\n",
        "    # Approximation coefficients\n",
        "    a1 = pywt.appcoef(c, l, 'db10', level=1)\n",
        "    a2 = pywt.appcoef(c, l, 'db10', level=2)\n",
        "    a3 = pywt.appcoef(c, l, 'db10', level=3)\n",
        "    a4 = pywt.appcoef(c, l, 'db10', level=4)\n",
        "    a5 = pywt.appcoef(c, l, 'db10', level=5)"
      ],
      "metadata": {
        "id": "MBvYln1_KE-U"
      },
      "execution_count": null,
      "outputs": []
    },
    {
      "cell_type": "markdown",
      "source": [
        "Plotting the approximations"
      ],
      "metadata": {
        "id": "7ETOZLTHKRFH"
      }
    },
    {
      "cell_type": "code",
      "source": [
        "# plots for Approximation coefficients\n",
        "    import matplotlib.pyplot as plt\n",
        "    plt.subplot(5, 2, 1)\n",
        "    plt.plot(a1)\n",
        "    plt.title('Level 1 Approximation Coefficients')\n",
        "    plt.subplot(5, 2, 2)\n",
        "    plt.plot(a2)\n",
        "    plt.title('Level 2 Approximation Coefficients')\n",
        "    plt.subplot(5, 2, 3)\n",
        "    plt.plot(a3)\n",
        "    plt.title('Level 3 Approximation Coefficients')\n",
        "    plt.subplot(5, 2, 4)\n",
        "    plt.plot(a4)\n",
        "    plt.title('Level 4 Approximation Coefficients')\n",
        "    plt.subplot(5, 2, 5)\n",
        "    plt.plot(a5)\n",
        "    plt.title('Level 5 Approximation Coefficients')\n",
        "    plt.show()"
      ],
      "metadata": {
        "id": "DFQIyjaDKZa4"
      },
      "execution_count": null,
      "outputs": []
    },
    {
      "cell_type": "markdown",
      "source": [
        "Deriving the results"
      ],
      "metadata": {
        "id": "83mAdLgQKcgh"
      }
    },
    {
      "cell_type": "code",
      "source": [
        "# Features of Approximation coefficients (i.e Skewness, Kurtosis, Standard Deviation)\n",
        "    # 1. Skewness\n",
        "    skewness_a1 = scipy.stats.skew(a1)\n",
        "    skewness_a2 = scipy.stats.skew(a2)\n",
        "    skewness_a3 = scipy.stats.skew(a3)\n",
        "    skewness_a4 = scipy.stats.skew(a4)\n",
        "    skewness_a5 = scipy.stats.skew(a5)\n",
        "    # 2. Kurtosis\n",
        "    kurtosis_a1 = scipy.stats.kurtosis(a1)\n",
        "    kurtosis_a2 = scipy.stats.kurtosis(a2)\n",
        "    kurtosis_a3 = scipy.stats.kurtosis(a3)\n",
        "    kurtosis_a4 = scipy.stats.kurtosis(a4)\n",
        "    kurtosis_a5 = scipy.stats.kurtosis(a5)"
      ],
      "metadata": {
        "id": "orqNxCJgKeZp"
      },
      "execution_count": null,
      "outputs": []
    }
  ]
}